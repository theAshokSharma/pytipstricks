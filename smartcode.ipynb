{
 "cells": [
  {
   "cell_type": "code",
   "execution_count": 15,
   "metadata": {},
   "outputs": [
    {
     "name": "stdout",
     "output_type": "stream",
     "text": [
      "{'BEG': 1, 'IN': 2, 'GET': 2, 'AK': 3}\n"
     ]
    }
   ],
   "source": [
    "# sort dictionary based on multiple condition\n",
    "\n",
    "d = {'IN': 2, 'GET': 2, 'AK': 3, 'BEG': 1}\n",
    "\n",
    "l = sorted(d.items(), key=lambda x: (x[1],len(x[0]), x[0]))\n",
    "\n",
    "new_d = {k:v for k, v in l}\n",
    "\n",
    "print(new_d)"
   ]
  },
  {
   "cell_type": "code",
   "execution_count": 4,
   "metadata": {},
   "outputs": [
    {
     "name": "stdout",
     "output_type": "stream",
     "text": [
      "100,000,000\n"
     ]
    }
   ],
   "source": [
    "n = 100000000\n",
    "\n",
    "new_num = f'{n:,}'\n",
    "\n",
    "print(new_num)"
   ]
  },
  {
   "cell_type": "code",
   "execution_count": 19,
   "metadata": {},
   "outputs": [
    {
     "name": "stdout",
     "output_type": "stream",
     "text": [
      "2880\n",
      "2880\n"
     ]
    }
   ],
   "source": [
    "## Multiply all elements of the list\n",
    "\n",
    "from numpy import prod\n",
    "from functools import reduce\n",
    "\n",
    "l = [2, 3, 4, 4, 5, 6]\n",
    "\n",
    "v1 = prod(l)\n",
    "v2 = reduce( (lambda x, y: x * y), l)\n",
    "\n",
    "print(v1)\n",
    "print(v2)\n"
   ]
  },
  {
   "cell_type": "code",
   "execution_count": 20,
   "metadata": {},
   "outputs": [
    {
     "name": "stdout",
     "output_type": "stream",
     "text": [
      "[1, 2, 3, 4, 5, 6]\n"
     ]
    }
   ],
   "source": [
    "# flatten a list\n",
    "\n",
    "l = [ [1,2], [3,4], [5,6]]\n",
    "\n",
    "flat_l = [ i for j in l for i in j]\n",
    "\n",
    "print(flat_l)"
   ]
  },
  {
   "cell_type": "code",
   "execution_count": 3,
   "metadata": {},
   "outputs": [
    {
     "name": "stdout",
     "output_type": "stream",
     "text": [
      "[1, 2, 3, 4, 5, 6, 7, 8]\n",
      "[{1, 2, 3, 4, 5, 6, 7, 8}]\n"
     ]
    }
   ],
   "source": [
    "# remove duplicate elements\n",
    "# set removes duplicates\n",
    "\n",
    "l = [1, 2, 1, 2, 3, 4, 4, 5, 5, 5, 6, 7, 8,]\n",
    "\n",
    "new_l = list(set(l))\n",
    "\n",
    "print(new_l)\n",
    "\n",
    "print([ set(l) ])"
   ]
  },
  {
   "cell_type": "code",
   "execution_count": 25,
   "metadata": {},
   "outputs": [
    {
     "name": "stdout",
     "output_type": "stream",
     "text": [
      "1 5\n"
     ]
    }
   ],
   "source": [
    "# get quotient and remainder\n",
    "\n",
    "q, r = divmod(11, 6)\n",
    "\n",
    "print(q, r)\n"
   ]
  },
  {
   "cell_type": "code",
   "execution_count": 32,
   "metadata": {},
   "outputs": [
    {
     "name": "stdout",
     "output_type": "stream",
     "text": [
      "c\n"
     ]
    }
   ],
   "source": [
    "# Most frequent\n",
    "\n",
    "from collections import Counter\n",
    "\n",
    "l = ['a', 'b', 'b', 'b', 'c', 'c', 'c', 'c', 'c', 'd', 'e', 'f', 'f', 'g']\n",
    "\n",
    "freq_ele = Counter(l).most_common()\n",
    "freq_ele = Counter(l).most_common()[0][0]\n",
    "\n",
    "print(freq_ele)"
   ]
  },
  {
   "cell_type": "code",
   "execution_count": 33,
   "metadata": {},
   "outputs": [
    {
     "name": "stdout",
     "output_type": "stream",
     "text": [
      "[[1, 3, 5], [2, 4, 6], [3, 6, 7]]\n"
     ]
    }
   ],
   "source": [
    "# transpose matrix\n",
    "\n",
    "mtrx = [[1,2,3], [3, 4, 6], [5, 6, 7]]\n",
    "\n",
    "l = list( list(x) for x in zip(*mtrx))\n",
    "print (l)"
   ]
  },
  {
   "cell_type": "code",
   "execution_count": 36,
   "metadata": {},
   "outputs": [
    {
     "name": "stdout",
     "output_type": "stream",
     "text": [
      "[7, 9, 11, 13, 15]\n"
     ]
    }
   ],
   "source": [
    "# element wise addition of two list\n",
    "\n",
    "l1 = [1, 2, 3, 4, 5]\n",
    "l2 = [6, 7, 8, 9, 10]\n",
    "\n",
    "l12 = [x + y for x, y in zip(l1, l2)]\n",
    "\n",
    "print(l12)"
   ]
  },
  {
   "cell_type": "code",
   "execution_count": 40,
   "metadata": {},
   "outputs": [
    {
     "name": "stdout",
     "output_type": "stream",
     "text": [
      "[('a', 1), ('a', 2), ('a', 3), ('a', 4), ('a', 5), ('b', 1), ('b', 2), ('b', 3), ('b', 4), ('b', 5), ('c', 1), ('c', 2), ('c', 3), ('c', 4), ('c', 5), ('d', 1), ('d', 2), ('d', 3), ('d', 4), ('d', 5), ('e', 1), ('e', 2), ('e', 3), ('e', 4), ('e', 5)]\n"
     ]
    }
   ],
   "source": [
    "# nested loops\n",
    "\n",
    "l1 = ['a', 'b', 'c', 'd', 'e']\n",
    "l2 = [1, 2, 3, 4, 5]\n",
    "\n",
    "\n",
    "l12 = [ (x,y) for x in l1 for y in l2]\n",
    "\n",
    "print(l12)"
   ]
  }
 ],
 "metadata": {
  "interpreter": {
   "hash": "f94c5354272bf42cb61cba1bee8b41d0df7e72ca622adbe62a79b54d291b21d8"
  },
  "kernelspec": {
   "display_name": "Python 3.9.7 ('base')",
   "language": "python",
   "name": "python3"
  },
  "language_info": {
   "codemirror_mode": {
    "name": "ipython",
    "version": 3
   },
   "file_extension": ".py",
   "mimetype": "text/x-python",
   "name": "python",
   "nbconvert_exporter": "python",
   "pygments_lexer": "ipython3",
   "version": "3.9.7"
  },
  "orig_nbformat": 4
 },
 "nbformat": 4,
 "nbformat_minor": 2
}
